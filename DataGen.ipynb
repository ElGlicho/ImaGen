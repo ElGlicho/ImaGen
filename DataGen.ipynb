{
 "cells": [
  {
   "cell_type": "code",
   "execution_count": 41,
   "id": "10603a8d",
   "metadata": {},
   "outputs": [],
   "source": [
    "from PIL import Image, ImageDraw\n",
    "import random"
   ]
  },
  {
   "cell_type": "code",
   "execution_count": 42,
   "id": "bea035dc",
   "metadata": {},
   "outputs": [
    {
     "data": {
      "text/plain": [
       "'\\nCLASES:\\nTriangulo\\nRectangulo\\nPentagono (regular)\\nHexágono (regular)\\nCirculo\\n'"
      ]
     },
     "execution_count": 42,
     "metadata": {},
     "output_type": "execute_result"
    }
   ],
   "source": [
    "'''\n",
    "CLASES:\n",
    "Triangulo\n",
    "Rectangulo\n",
    "Pentagono (regular)\n",
    "Hexágono (regular)\n",
    "Circulo\n",
    "'''"
   ]
  },
  {
   "cell_type": "code",
   "execution_count": 52,
   "id": "1952ad57",
   "metadata": {},
   "outputs": [],
   "source": [
    "#GENERAL\n",
    "imageSize = (64, 64)\n",
    "n_triangulos = 100\n",
    "n_rectangulos = 100\n",
    "n_pentagonos = 100\n",
    "n_hexagonos = 100\n",
    "\n",
    "\n",
    "#RECTANGULOS\n",
    "\n",
    "minOriginR = 0\n",
    "maxOriginR = 44\n",
    "minHeightWidthR = 6\n",
    "maxHeightWidthR = 20\n",
    "\n",
    "\n",
    "#RESTOPOLIGONOS\n",
    "minOriginP = 13\n",
    "maxOriginP = 51\n",
    "minRadio = 13\n",
    "maxRadio = 19\n",
    "minRotation = 0\n",
    "maxRotation = 360/5"
   ]
  },
  {
   "cell_type": "code",
   "execution_count": 44,
   "id": "93db19f6",
   "metadata": {},
   "outputs": [],
   "source": [
    "acum = 0"
   ]
  },
  {
   "cell_type": "code",
   "execution_count": null,
   "id": "70d69505",
   "metadata": {},
   "outputs": [],
   "source": [
    "for i in range(acum, acum+n_triangulos):\n",
    "    x = random.randrange(minOriginP, maxOriginP)\n",
    "    y = random.randrange(minOriginP, maxOriginP)\n",
    "    radius = random.randrange(minRadio, maxRadio)\n",
    "    rotate = random.randrange(minRotation, maxRotation)\n",
    "    image = Image.new('RGB', imageSize, 'white')  # could also open an existing image here to draw shapes over it\n",
    "    draw = ImageDraw.Draw(image)\n",
    "    draw.regular_polygon((x, y, radius), 3, rotation=rotate, fill='black', outline='black')  # can vary this bit to draw different shapes in different positions\n",
    "    image.save('./Dataset/'+str(i)+'.png')"
   ]
  },
  {
   "cell_type": "code",
   "execution_count": null,
   "id": "53b4f889",
   "metadata": {},
   "outputs": [],
   "source": [
    "acum += n_triangulos"
   ]
  },
  {
   "cell_type": "code",
   "execution_count": 45,
   "id": "9a2a0ee9",
   "metadata": {},
   "outputs": [],
   "source": [
    "for i in range(acum, acum+n_rectangulos):\n",
    "    x = random.randrange(minOriginR, maxOriginR)\n",
    "    y = random.randrange(minOriginR, maxOriginR)\n",
    "    u = x + random.randrange(minHeightWidthR, maxHeightWidthR)\n",
    "    v = y + random.randrange(minHeightWidthR, maxHeightWidthR)\n",
    "    image = Image.new('RGB', imageSize, 'white')  # could also open an existing image here to draw shapes over it\n",
    "    draw = ImageDraw.Draw(image)\n",
    "    draw.rectangle((x,y,u,v), fill='black', outline='black')  # can vary this bit to draw different shapes in different positions\n",
    "    image.save('./Dataset/'+str(i)+'.png')"
   ]
  },
  {
   "cell_type": "code",
   "execution_count": 46,
   "id": "51a5b710",
   "metadata": {},
   "outputs": [],
   "source": [
    "acum += n_rectangulos"
   ]
  },
  {
   "cell_type": "code",
   "execution_count": 47,
   "id": "73c2610a",
   "metadata": {},
   "outputs": [],
   "source": [
    "for i in range(acum, acum+n_pentagonos):\n",
    "    x = random.randrange(minOriginP, maxOriginP)\n",
    "    y = random.randrange(minOriginP, maxOriginP)\n",
    "    radius = random.randrange(minRadio, maxRadio)\n",
    "    rotate = random.randrange(minRotation, maxRotation)\n",
    "    image = Image.new('RGB', imageSize, 'white')  # could also open an existing image here to draw shapes over it\n",
    "    draw = ImageDraw.Draw(image)\n",
    "    draw.regular_polygon((x, y, radius), 5, rotation=rotate, fill='black', outline='black')  # can vary this bit to draw different shapes in different positions\n",
    "    image.save('./Dataset/'+str(i)+'.png')\n"
   ]
  },
  {
   "cell_type": "code",
   "execution_count": 48,
   "id": "622d8ac8",
   "metadata": {},
   "outputs": [],
   "source": [
    "acum += n_pentagonos"
   ]
  },
  {
   "cell_type": "code",
   "execution_count": 49,
   "id": "ffff5e49",
   "metadata": {},
   "outputs": [],
   "source": [
    "for i in range(acum, acum+n_hexagonos):\n",
    "    x = random.randrange(minOriginP, maxOriginP)\n",
    "    y = random.randrange(minOriginP, maxOriginP)\n",
    "    radius = random.randrange(minRadio, maxRadio)\n",
    "    rotate = random.randrange(minRotation, maxRotation)\n",
    "    image = Image.new('RGB', imageSize, 'white')  # could also open an existing image here to draw shapes over it\n",
    "    draw = ImageDraw.Draw(image)\n",
    "    draw.regular_polygon((x, y, radius), 6, rotation=rotate, fill='black', outline='black')  # can vary this bit to draw different shapes in different positions\n",
    "    image.save('./Dataset/'+str(i)+'.png')\n"
   ]
  },
  {
   "cell_type": "code",
   "execution_count": 50,
   "id": "fd5f16a9",
   "metadata": {},
   "outputs": [],
   "source": [
    "acum += n_hexagonos"
   ]
  },
  {
   "cell_type": "code",
   "execution_count": null,
   "id": "b176f540",
   "metadata": {},
   "outputs": [],
   "source": []
  }
 ],
 "metadata": {
  "kernelspec": {
   "display_name": "Python 3 (ipykernel)",
   "language": "python",
   "name": "python3"
  },
  "language_info": {
   "codemirror_mode": {
    "name": "ipython",
    "version": 3
   },
   "file_extension": ".py",
   "mimetype": "text/x-python",
   "name": "python",
   "nbconvert_exporter": "python",
   "pygments_lexer": "ipython3",
   "version": "3.7.9"
  }
 },
 "nbformat": 4,
 "nbformat_minor": 5
}
