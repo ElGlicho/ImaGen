{
 "cells": [
  {
   "cell_type": "code",
   "execution_count": 2,
   "id": "10603a8d",
   "metadata": {},
   "outputs": [],
   "source": [
    "from PIL import Image, ImageDraw\n",
    "import random"
   ]
  },
  {
   "cell_type": "code",
   "execution_count": 3,
   "id": "1952ad57",
   "metadata": {},
   "outputs": [],
   "source": [
    "minOrigin = 0\n",
    "maxOrigin = 44\n",
    "minHeightWidth = 6\n",
    "maxHeightWidth = 20"
   ]
  },
  {
   "cell_type": "code",
   "execution_count": 4,
   "id": "9a2a0ee9",
   "metadata": {},
   "outputs": [],
   "source": [
    "for i in range(8):\n",
    "    x = random.randrange(minOrigin, maxOrigin)\n",
    "    y = random.randrange(minOrigin, maxOrigin)\n",
    "    u = x + random.randrange(minHeightWidth, maxHeightWidth)\n",
    "    v = y + random.randrange(minHeightWidth, maxHeightWidth)\n",
    "    image = Image.new('RGB', (64, 64), 'white')  # could also open an existing image here to draw shapes over it\n",
    "    draw = ImageDraw.Draw(image)\n",
    "    draw.rectangle((x,y,u,v), fill='black', outline='black')  # can vary this bit to draw different shapes in different positions\n",
    "    image.save('./Dataset/'+str(i)+'.png')"
   ]
  },
  {
   "cell_type": "code",
   "execution_count": null,
   "id": "73c2610a",
   "metadata": {},
   "outputs": [],
   "source": []
  }
 ],
 "metadata": {
  "kernelspec": {
   "display_name": "Python 3 (ipykernel)",
   "language": "python",
   "name": "python3"
  },
  "language_info": {
   "codemirror_mode": {
    "name": "ipython",
    "version": 3
   },
   "file_extension": ".py",
   "mimetype": "text/x-python",
   "name": "python",
   "nbconvert_exporter": "python",
   "pygments_lexer": "ipython3",
   "version": "3.7.9"
  }
 },
 "nbformat": 4,
 "nbformat_minor": 5
}
