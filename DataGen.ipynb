{
 "cells": [
  {
   "cell_type": "code",
   "execution_count": 36,
   "id": "10603a8d",
   "metadata": {},
   "outputs": [],
   "source": [
    "from PIL import Image, ImageDraw\n",
    "import cv2 as cv #Importamos la librería de OpenCV\n",
    "import matplotlib.pyplot as plt #Importamos el módulo matplotlib para mostrar gráficos matemáticos e imágenes (como gráficos). \n",
    "import numpy as np\n",
    "import os\n",
    "import random\n",
    "import tensorflow as tf"
   ]
  },
  {
   "cell_type": "code",
   "execution_count": 24,
   "id": "92b02a6a",
   "metadata": {
    "scrolled": true
   },
   "outputs": [
    {
     "data": {
      "text/plain": [
       "'\\nCLASES:\\nTriangulo\\nRectangulo\\nPentagono (regular)\\nHexágono (regular)\\nCirculo\\n'"
      ]
     },
     "execution_count": 24,
     "metadata": {},
     "output_type": "execute_result"
    }
   ],
   "source": [
    "'''\n",
    "CLASES:\n",
    "Triangulo\n",
    "Rectangulo\n",
    "Pentagono (regular)\n",
    "Hexágono (regular)\n",
    "Circulo\n",
    "'''"
   ]
  },
  {
   "cell_type": "code",
   "execution_count": 25,
   "id": "1952ad57",
   "metadata": {},
   "outputs": [],
   "source": [
    "#GENERAL\n",
    "imageSize = (64, 64)\n",
    "\n",
    "#RECTANGULOS\n",
    "\n",
    "minOriginR = 0\n",
    "maxOriginR = 44\n",
    "minHeightWidthR = 6\n",
    "maxHeightWidthR = 20\n",
    "\n",
    "#RESTOPOLIGONOS\n",
    "minOriginP = 13\n",
    "maxOriginP = 51\n",
    "minRadio = 13\n",
    "maxRadio = 19\n",
    "minRotation = 0\n",
    "maxRotation = 360"
   ]
  },
  {
   "cell_type": "code",
   "execution_count": 26,
   "id": "5a5424c6",
   "metadata": {},
   "outputs": [],
   "source": [
    "def generaTriangulos(out_folder, starting_number, n_shapes):\n",
    "    for i in range(starting_number, starting_number+n_shapes):\n",
    "        x = random.randrange(minOriginP, maxOriginP)\n",
    "        y = random.randrange(minOriginP, maxOriginP)\n",
    "        radius = random.randrange(minRadio, maxRadio)\n",
    "        rotate = random.randrange(minRotation, maxRotation)\n",
    "        image = Image.new('RGB', imageSize, 'white')  # could also open an existing image here to draw shapes over it\n",
    "        draw = ImageDraw.Draw(image)\n",
    "        draw.regular_polygon((x, y, radius), 3, rotation=rotate, fill='black', outline='black')  # can vary this bit to draw different shapes in different positions\n",
    "        image.save(out_folder+str(i)+'.png')\n",
    "\n",
    "def generaRectangulos(out_folder, starting_number, n_shapes):\n",
    "    for i in range(starting_number, starting_number+n_shapes):\n",
    "        x = random.randrange(minOriginR, maxOriginR)\n",
    "        y = random.randrange(minOriginR, maxOriginR)\n",
    "        u = x + random.randrange(minHeightWidthR, maxHeightWidthR)\n",
    "        v = y + random.randrange(minHeightWidthR, maxHeightWidthR)\n",
    "        image = Image.new('RGB', imageSize, 'white')  # could also open an existing image here to draw shapes over it\n",
    "        draw = ImageDraw.Draw(image)\n",
    "        draw.rectangle((x,y,u,v), fill='black', outline='black')  # can vary this bit to draw different shapes in different positions\n",
    "        image.save(out_folder+str(i)+'.png')\n",
    "\n",
    "def generaPentagonos(out_folder, starting_number, n_shapes):\n",
    "    for i in range(starting_number, starting_number+n_shapes):\n",
    "        x = random.randrange(minOriginP, maxOriginP)\n",
    "        y = random.randrange(minOriginP, maxOriginP)\n",
    "        radius = random.randrange(minRadio, maxRadio)\n",
    "        rotate = random.randrange(minRotation, maxRotation)\n",
    "        image = Image.new('RGB', imageSize, 'white')  # could also open an existing image here to draw shapes over it\n",
    "        draw = ImageDraw.Draw(image)\n",
    "        draw.regular_polygon((x, y, radius), 5, rotation=rotate, fill='black', outline='black')  # can vary this bit to draw different shapes in different positions\n",
    "        image.save(out_folder+str(i)+'.png')\n",
    "\n",
    "def generaHexagonos(out_folder, starting_number, n_shapes):\n",
    "    for i in range(starting_number, starting_number+n_shapes):\n",
    "        x = random.randrange(minOriginP, maxOriginP)\n",
    "        y = random.randrange(minOriginP, maxOriginP)\n",
    "        radius = random.randrange(minRadio, maxRadio)\n",
    "        rotate = random.randrange(minRotation, maxRotation)\n",
    "        image = Image.new('RGB', imageSize, 'white')  # could also open an existing image here to draw shapes over it\n",
    "        draw = ImageDraw.Draw(image)\n",
    "        draw.regular_polygon((x, y, radius), 6, rotation=rotate, fill='black', outline='black')  # can vary this bit to draw different shapes in different positions\n",
    "        image.save(out_folder+str(i)+'.png')\n",
    "\n",
    "def generaCirculos(out_folder, starting_number, n_shapes):\n",
    "    for i in range(starting_number, starting_number+ n_shapes):\n",
    "        x = random.randrange(minOriginP, maxOriginP)\n",
    "        y = random.randrange(minOriginP, maxOriginP)\n",
    "        u = x + random.randrange(minHeightWidthR, maxHeightWidthR)\n",
    "        v = y + random.randrange(minHeightWidthR, maxHeightWidthR)\n",
    "        image = Image.new('RGB', imageSize, 'white')  # could also open an existing image here to draw shapes over it\n",
    "        draw = ImageDraw.Draw(image)\n",
    "        draw.ellipse((x, y, u,v), fill='black', outline='black')  # can vary this bit to draw different shapes in different positions\n",
    "        image.save(out_folder+str(i)+'.png')\n",
    "\n",
    "def genData(imagePath, imagesPerClass):\n",
    "    imagePath = str(imagePath)\n",
    "    for s in ['/triangulos', '/rectangulos', '/pentagonos', '/hexagonos', '/circulos']:\n",
    "        if not os.path.exists(imagePath + s):\n",
    "            os.makedirs(imagePath+s)\n",
    "    generaTriangulos(imagePath + '/triangulos/', 0, imagesPerClass)\n",
    "    generaRectangulos(imagePath + '/rectangulos/', 0, imagesPerClass)\n",
    "    generaCirculos(imagePath + '/circulos/', 0, imagesPerClass)\n",
    "    generaPentagonos(imagePath + '/pentagonos/', 0, imagesPerClass)\n",
    "    generaHexagonos(imagePath + '/hexagonos/', 0, imagesPerClass)"
   ]
  },
  {
   "cell_type": "code",
   "execution_count": 27,
   "id": "83441ec2",
   "metadata": {},
   "outputs": [
    {
     "name": "stdout",
     "output_type": "stream",
     "text": [
      "5000\n"
     ]
    }
   ],
   "source": [
    "import pathlib\n",
    "data_dir = \"./Images/Train/\"\n",
    "test_dir = \"./Images/Test/\"\n",
    "data_dir = pathlib.Path(data_dir)\n",
    "image_count = len(list(data_dir.glob('*/*.png')))\n",
    "print(image_count)"
   ]
  },
  {
   "cell_type": "code",
   "execution_count": 28,
   "id": "c4bf9054",
   "metadata": {},
   "outputs": [],
   "source": [
    "genData(data_dir, 1000)\n",
    "genData(test_dir, 100)"
   ]
  },
  {
   "cell_type": "markdown",
   "id": "ca8bd405",
   "metadata": {},
   "source": [
    "Para comenzar, la red toma como entrada los pixeles de una imagen. Si tenemos una imagen con nxm pixeles de alto y ancho equivalen a n * m neuronas. Por lo que en nuestro ejemplo serán 64 * 64 = 4096 neuronas. Si las imágenes fueran a color (RGB) en su lugar utiliriamos 64 * 64 * 3 ... \n",
    "\n",
    "Estas neuronas constituyen nuestra capa de entrada.\n",
    "\n",
    "### Preprocesamiento\n",
    "\n",
    "https://www.tensorflow.org/tutorials/load_data/images\n",
    "\n",
    "\n"
   ]
  },
  {
   "cell_type": "code",
   "execution_count": 29,
   "id": "f54c12a2",
   "metadata": {},
   "outputs": [
    {
     "name": "stdout",
     "output_type": "stream",
     "text": [
      "Found 5000 files belonging to 5 classes.\n",
      "Using 4000 files for training.\n",
      "Found 5000 files belonging to 5 classes.\n",
      "Using 1000 files for validation.\n"
     ]
    }
   ],
   "source": [
    "batch_size = 32\n",
    "img_height = 64\n",
    "img_width = 64\n",
    "\n",
    "train_ds = tf.keras.utils.image_dataset_from_directory(\n",
    "  data_dir,\n",
    "  validation_split=0.2,\n",
    "  subset=\"training\",\n",
    "  color_mode=\"grayscale\",\n",
    "  seed=123,\n",
    "  image_size=(img_height, img_width),\n",
    "  batch_size=batch_size)\n",
    "\n",
    "val_ds = tf.keras.utils.image_dataset_from_directory(\n",
    "  data_dir,\n",
    "  validation_split=0.2,\n",
    "  subset=\"validation\",\n",
    "  color_mode=\"grayscale\",\n",
    "  seed=123,\n",
    "  image_size=(img_height, img_width),\n",
    "  batch_size=batch_size)"
   ]
  },
  {
   "cell_type": "code",
   "execution_count": 30,
   "id": "598f0ee6",
   "metadata": {},
   "outputs": [
    {
     "name": "stdout",
     "output_type": "stream",
     "text": [
      "['circulos', 'hexagonos', 'pentagonos', 'rectangulos', 'triangulos']\n"
     ]
    }
   ],
   "source": [
    "class_names = train_ds.class_names\n",
    "print(class_names)"
   ]
  },
  {
   "cell_type": "code",
   "execution_count": 31,
   "id": "b479764e",
   "metadata": {},
   "outputs": [
    {
     "name": "stdout",
     "output_type": "stream",
     "text": [
      "(32, 64, 64, 1)\n",
      "(32,)\n"
     ]
    }
   ],
   "source": [
    "for image_batch, labels_batch in train_ds:\n",
    "    print(image_batch.shape)\n",
    "    print(labels_batch.shape)\n",
    "    break"
   ]
  },
  {
   "cell_type": "markdown",
   "id": "84d17241",
   "metadata": {},
   "source": [
    "image_batch es un tensor de la forma (32, 180, 180, 3) . Este es un lote de 32 imágenes de forma 180x180x3 (la última dimensión se refiere a los canales de color RGB). El label_batch es un tensor de la forma (32,) , estas son las etiquetas correspondientes a las 32 imágenes.\n",
    "\n",
    "Puede llamar a .numpy() en cualquiera de estos tensores para convertirlos en numpy.ndarray "
   ]
  },
  {
   "cell_type": "markdown",
   "id": "55aa72de",
   "metadata": {},
   "source": [
    "#### Estandarizar los datos\n",
    "Los valores del canal RGB están en el rango [0, 255] . Esto no es ideal para una red neuronal; en general, debe buscar que sus valores de entrada sean pequeños.\n",
    "\n",
    "Aquí, estandarizará los valores para que estén en el rango [0, 1] usando tf.keras.layers.Rescaling :"
   ]
  },
  {
   "cell_type": "markdown",
   "id": "c53aee6c",
   "metadata": {},
   "source": [
    "### Configurar el conjunto de datos para el rendimiento\n",
    "Asegurémonos de utilizar la captación previa almacenada en búfer para que pueda obtener datos del disco sin que la E/S se convierta en un bloqueo. Estos son dos métodos importantes que debe usar al cargar datos:\n",
    "\n",
    "- Dataset.cache mantiene las imágenes en la memoria después de que se cargan fuera del disco durante la primera época. Esto asegurará que el conjunto de datos no se convierta en un cuello de botella mientras entrena su modelo. Si su conjunto de datos es demasiado grande para caber en la memoria, también puede usar este método para crear un caché en disco de alto rendimiento.\n",
    "- Dataset.prefetch superpone el preprocesamiento de datos y la ejecución del modelo durante el entrenamiento.\n"
   ]
  },
  {
   "cell_type": "code",
   "execution_count": 32,
   "id": "cedce97b",
   "metadata": {},
   "outputs": [],
   "source": [
    "AUTOTUNE = tf.data.AUTOTUNE\n",
    "\n",
    "train_ds = train_ds.cache().prefetch(buffer_size=AUTOTUNE)\n",
    "val_ds = val_ds.cache().prefetch(buffer_size=AUTOTUNE)"
   ]
  },
  {
   "cell_type": "markdown",
   "id": "4d70be90",
   "metadata": {},
   "source": [
    "### entrenar a un modelo\n",
    "Para completar, mostrará cómo entrenar un modelo simple utilizando los conjuntos de datos que acaba de preparar.\n",
    "\n",
    "El modelo secuencial consta de tres bloques de convolución ( tf.keras.layers.Conv2D ) con una capa de agrupación máxima ( tf.keras.layers.MaxPooling2D ) en cada uno de ellos. Hay una capa totalmente conectada ( tf.keras.layers.Dense ) con 128 unidades encima que se activa mediante una función de activación de ReLU ( 'relu' ). Este modelo no se ha ajustado de ninguna manera: el objetivo es mostrarle la mecánica utilizando los conjuntos de datos que acaba de crear. "
   ]
  },
  {
   "cell_type": "code",
   "execution_count": 33,
   "id": "b8ab992c",
   "metadata": {},
   "outputs": [],
   "source": [
    "num_classes = 5\n",
    "\n",
    "model = tf.keras.Sequential([\n",
    "  tf.keras.layers.Rescaling(1./255, input_shape=(64, 64, 1)),\n",
    "  tf.keras.layers.Conv2D(32, 3, activation='relu', padding = 'same'),\n",
    "  tf.keras.layers.MaxPooling2D(),\n",
    "  tf.keras.layers.Conv2D(32, 3, activation='relu', padding = 'same'),\n",
    "  tf.keras.layers.MaxPooling2D(),\n",
    "  tf.keras.layers.Conv2D(32, 3, activation='relu', padding = 'same'),\n",
    "  tf.keras.layers.MaxPooling2D(),\n",
    "  tf.keras.layers.Flatten(),\n",
    "  tf.keras.layers.Dense(128, activation='relu'),\n",
    "  tf.keras.layers.Dense(num_classes, activation = \"softmax\")\n",
    "])"
   ]
  },
  {
   "cell_type": "markdown",
   "id": "a29170d0",
   "metadata": {},
   "source": [
    "Elija el optimizador tf.keras.optimizers.Adam y la función de pérdida tf.keras.losses.SparseCategoricalCrossentropy . Para ver la precisión del entrenamiento y la validación para cada época de entrenamiento, pase el argumento de metrics a Model.compile ."
   ]
  },
  {
   "cell_type": "code",
   "execution_count": 39,
   "id": "5ba5eac0",
   "metadata": {},
   "outputs": [],
   "source": [
    "model.compile(\n",
    "  optimizer='adam',\n",
    "  loss=tf.keras.losses.sparse_categorical_crossentropy,\n",
    "  metrics=['accuracy'])"
   ]
  },
  {
   "cell_type": "code",
   "execution_count": 40,
   "id": "9d820efc",
   "metadata": {},
   "outputs": [],
   "source": [
    "es_callback = tf.keras.callbacks.EarlyStopping(monitor=\"val_loss\", patience=4)"
   ]
  },
  {
   "cell_type": "code",
   "execution_count": 41,
   "id": "bbb856d9",
   "metadata": {},
   "outputs": [
    {
     "name": "stdout",
     "output_type": "stream",
     "text": [
      "Epoch 1/100\n",
      "125/125 [==============================] - 5s 37ms/step - loss: 0.0109 - accuracy: 0.9975 - val_loss: 0.0214 - val_accuracy: 0.9930\n",
      "Epoch 2/100\n",
      "125/125 [==============================] - 4s 33ms/step - loss: 0.0056 - accuracy: 0.9980 - val_loss: 0.0644 - val_accuracy: 0.9780\n",
      "Epoch 3/100\n",
      "125/125 [==============================] - 4s 32ms/step - loss: 0.0133 - accuracy: 0.9955 - val_loss: 0.0540 - val_accuracy: 0.9790\n",
      "Epoch 4/100\n",
      "125/125 [==============================] - 4s 32ms/step - loss: 0.0211 - accuracy: 0.9935 - val_loss: 0.0618 - val_accuracy: 0.9790\n",
      "Epoch 5/100\n",
      "125/125 [==============================] - 4s 32ms/step - loss: 0.0040 - accuracy: 0.9987 - val_loss: 0.0212 - val_accuracy: 0.9930\n",
      "Epoch 6/100\n",
      "125/125 [==============================] - 4s 33ms/step - loss: 3.8495e-04 - accuracy: 1.0000 - val_loss: 0.0129 - val_accuracy: 0.9950\n",
      "Epoch 7/100\n",
      "125/125 [==============================] - 4s 33ms/step - loss: 1.7791e-04 - accuracy: 1.0000 - val_loss: 0.0126 - val_accuracy: 0.9940\n",
      "Epoch 8/100\n",
      "125/125 [==============================] - 4s 34ms/step - loss: 1.2985e-04 - accuracy: 1.0000 - val_loss: 0.0120 - val_accuracy: 0.9940\n",
      "Epoch 9/100\n",
      "125/125 [==============================] - 4s 34ms/step - loss: 1.0395e-04 - accuracy: 1.0000 - val_loss: 0.0116 - val_accuracy: 0.9950\n",
      "Epoch 10/100\n",
      "125/125 [==============================] - 4s 34ms/step - loss: 8.6174e-05 - accuracy: 1.0000 - val_loss: 0.0113 - val_accuracy: 0.9950\n",
      "Epoch 11/100\n",
      "125/125 [==============================] - 4s 34ms/step - loss: 7.2531e-05 - accuracy: 1.0000 - val_loss: 0.0109 - val_accuracy: 0.9950\n",
      "Epoch 12/100\n",
      "125/125 [==============================] - 4s 34ms/step - loss: 6.1991e-05 - accuracy: 1.0000 - val_loss: 0.0108 - val_accuracy: 0.9950\n",
      "Epoch 13/100\n",
      "125/125 [==============================] - 4s 34ms/step - loss: 5.3773e-05 - accuracy: 1.0000 - val_loss: 0.0109 - val_accuracy: 0.9950\n",
      "Epoch 14/100\n",
      "125/125 [==============================] - 4s 33ms/step - loss: 4.7247e-05 - accuracy: 1.0000 - val_loss: 0.0106 - val_accuracy: 0.9950\n",
      "Epoch 15/100\n",
      "125/125 [==============================] - 4s 33ms/step - loss: 4.1507e-05 - accuracy: 1.0000 - val_loss: 0.0104 - val_accuracy: 0.9950\n",
      "Epoch 16/100\n",
      "125/125 [==============================] - 4s 36ms/step - loss: 3.6659e-05 - accuracy: 1.0000 - val_loss: 0.0102 - val_accuracy: 0.9950\n",
      "Epoch 17/100\n",
      "125/125 [==============================] - 4s 36ms/step - loss: 3.2723e-05 - accuracy: 1.0000 - val_loss: 0.0102 - val_accuracy: 0.9960\n",
      "Epoch 18/100\n",
      "125/125 [==============================] - 4s 35ms/step - loss: 2.8892e-05 - accuracy: 1.0000 - val_loss: 0.0100 - val_accuracy: 0.9960\n",
      "Epoch 19/100\n",
      "125/125 [==============================] - 4s 33ms/step - loss: 2.5897e-05 - accuracy: 1.0000 - val_loss: 0.0101 - val_accuracy: 0.9960\n",
      "Epoch 20/100\n",
      "125/125 [==============================] - 4s 33ms/step - loss: 2.3190e-05 - accuracy: 1.0000 - val_loss: 0.0101 - val_accuracy: 0.9960\n",
      "Epoch 21/100\n",
      "125/125 [==============================] - 4s 33ms/step - loss: 2.0868e-05 - accuracy: 1.0000 - val_loss: 0.0098 - val_accuracy: 0.9960\n",
      "Epoch 22/100\n",
      "125/125 [==============================] - 4s 32ms/step - loss: 1.9007e-05 - accuracy: 1.0000 - val_loss: 0.0092 - val_accuracy: 0.9970\n",
      "Epoch 23/100\n",
      "125/125 [==============================] - 4s 34ms/step - loss: 1.7185e-05 - accuracy: 1.0000 - val_loss: 0.0094 - val_accuracy: 0.9970\n",
      "Epoch 24/100\n",
      "125/125 [==============================] - 4s 33ms/step - loss: 1.5655e-05 - accuracy: 1.0000 - val_loss: 0.0092 - val_accuracy: 0.9970\n",
      "Epoch 25/100\n",
      "125/125 [==============================] - 4s 33ms/step - loss: 1.4332e-05 - accuracy: 1.0000 - val_loss: 0.0091 - val_accuracy: 0.9970\n",
      "Epoch 26/100\n",
      "125/125 [==============================] - 4s 33ms/step - loss: 1.3147e-05 - accuracy: 1.0000 - val_loss: 0.0091 - val_accuracy: 0.9970\n",
      "Epoch 27/100\n",
      "125/125 [==============================] - 4s 32ms/step - loss: 1.2116e-05 - accuracy: 1.0000 - val_loss: 0.0088 - val_accuracy: 0.9970\n",
      "Epoch 28/100\n",
      "125/125 [==============================] - 4s 33ms/step - loss: 1.1151e-05 - accuracy: 1.0000 - val_loss: 0.0084 - val_accuracy: 0.9970\n",
      "Epoch 29/100\n",
      "125/125 [==============================] - 4s 36ms/step - loss: 1.0296e-05 - accuracy: 1.0000 - val_loss: 0.0084 - val_accuracy: 0.9970\n",
      "Epoch 30/100\n",
      "125/125 [==============================] - 4s 34ms/step - loss: 9.5010e-06 - accuracy: 1.0000 - val_loss: 0.0081 - val_accuracy: 0.9970\n",
      "Epoch 31/100\n",
      "125/125 [==============================] - 4s 35ms/step - loss: 8.8141e-06 - accuracy: 1.0000 - val_loss: 0.0076 - val_accuracy: 0.9970\n",
      "Epoch 32/100\n",
      "125/125 [==============================] - 4s 34ms/step - loss: 8.1301e-06 - accuracy: 1.0000 - val_loss: 0.0075 - val_accuracy: 0.9970\n",
      "Epoch 33/100\n",
      "125/125 [==============================] - 4s 33ms/step - loss: 7.5413e-06 - accuracy: 1.0000 - val_loss: 0.0075 - val_accuracy: 0.9970\n",
      "Epoch 34/100\n",
      "125/125 [==============================] - 4s 34ms/step - loss: 7.0034e-06 - accuracy: 1.0000 - val_loss: 0.0072 - val_accuracy: 0.9970\n",
      "Epoch 35/100\n",
      "125/125 [==============================] - 5s 36ms/step - loss: 6.4984e-06 - accuracy: 1.0000 - val_loss: 0.0071 - val_accuracy: 0.9970\n",
      "Epoch 36/100\n",
      "125/125 [==============================] - 5s 37ms/step - loss: 6.0409e-06 - accuracy: 1.0000 - val_loss: 0.0070 - val_accuracy: 0.9970\n",
      "Epoch 37/100\n",
      "125/125 [==============================] - 4s 33ms/step - loss: 5.6193e-06 - accuracy: 1.0000 - val_loss: 0.0069 - val_accuracy: 0.9970\n",
      "Epoch 38/100\n",
      "125/125 [==============================] - 4s 33ms/step - loss: 5.2344e-06 - accuracy: 1.0000 - val_loss: 0.0069 - val_accuracy: 0.9970\n",
      "Epoch 39/100\n",
      "125/125 [==============================] - 4s 32ms/step - loss: 4.8804e-06 - accuracy: 1.0000 - val_loss: 0.0071 - val_accuracy: 0.9970\n",
      "Epoch 40/100\n",
      "125/125 [==============================] - 4s 32ms/step - loss: 4.5488e-06 - accuracy: 1.0000 - val_loss: 0.0069 - val_accuracy: 0.9970\n",
      "Epoch 41/100\n",
      "125/125 [==============================] - 4s 35ms/step - loss: 4.2487e-06 - accuracy: 1.0000 - val_loss: 0.0066 - val_accuracy: 0.9970\n",
      "Epoch 42/100\n",
      "125/125 [==============================] - 4s 33ms/step - loss: 3.9615e-06 - accuracy: 1.0000 - val_loss: 0.0064 - val_accuracy: 0.9970\n",
      "Epoch 43/100\n",
      "125/125 [==============================] - 4s 32ms/step - loss: 3.6962e-06 - accuracy: 1.0000 - val_loss: 0.0063 - val_accuracy: 0.9980\n",
      "Epoch 44/100\n",
      "125/125 [==============================] - 4s 32ms/step - loss: 3.4370e-06 - accuracy: 1.0000 - val_loss: 0.0067 - val_accuracy: 0.9970\n",
      "Epoch 45/100\n",
      "125/125 [==============================] - 4s 32ms/step - loss: 3.2213e-06 - accuracy: 1.0000 - val_loss: 0.0072 - val_accuracy: 0.9970\n",
      "Epoch 46/100\n",
      "125/125 [==============================] - 4s 34ms/step - loss: 3.0277e-06 - accuracy: 1.0000 - val_loss: 0.0071 - val_accuracy: 0.9970\n",
      "Epoch 47/100\n",
      "125/125 [==============================] - 4s 32ms/step - loss: 2.8151e-06 - accuracy: 1.0000 - val_loss: 0.0063 - val_accuracy: 0.9970\n",
      "Epoch 48/100\n",
      "125/125 [==============================] - 4s 32ms/step - loss: 2.6144e-06 - accuracy: 1.0000 - val_loss: 0.0064 - val_accuracy: 0.9970\n"
     ]
    },
    {
     "data": {
      "text/plain": [
       "<keras.callbacks.History at 0x1e31889aac0>"
      ]
     },
     "execution_count": 41,
     "metadata": {},
     "output_type": "execute_result"
    }
   ],
   "source": [
    "model.fit(\n",
    "  train_ds,\n",
    "  validation_data=val_ds,\n",
    "  epochs=30,\n",
    "  callbacks = es_callback\n",
    ")"
   ]
  },
  {
   "cell_type": "markdown",
   "id": "6c17206d",
   "metadata": {},
   "source": [
    "<h1> TESTS </h1>"
   ]
  },
  {
   "cell_type": "code",
   "execution_count": 42,
   "id": "0cf43f95",
   "metadata": {},
   "outputs": [],
   "source": [
    "triangleImages = np.array([cv.imread(test_dir + 'triangulos/' + str(i) + '.png', cv.IMREAD_GRAYSCALE) for i in range(100)])\n",
    "rectangleImages = np.array([cv.imread(test_dir + 'rectangulos/' + str(i) + '.png', cv.IMREAD_GRAYSCALE) for i in range(100)])\n",
    "pentagonImages = np.array([cv.imread(test_dir + 'pentagonos/' + str(i) + '.png', cv.IMREAD_GRAYSCALE) for i in range(100)])\n",
    "hexagonImages = np.array([cv.imread(test_dir + 'hexagonos/' + str(i) + '.png', cv.IMREAD_GRAYSCALE) for i in range(100)])\n",
    "circleImages = np.array([cv.imread(test_dir + 'circulos/' + str(i) + '.png', cv.IMREAD_GRAYSCALE) for i in range(100)])"
   ]
  },
  {
   "cell_type": "code",
   "execution_count": 43,
   "id": "ce24dfc4",
   "metadata": {},
   "outputs": [
    {
     "name": "stdout",
     "output_type": "stream",
     "text": [
      "4/4 [==============================] - 0s 7ms/step\n",
      "4/4 [==============================] - 0s 7ms/step\n",
      "4/4 [==============================] - 0s 7ms/step\n",
      "4/4 [==============================] - 0s 10ms/step\n",
      "4/4 [==============================] - 0s 7ms/step\n"
     ]
    }
   ],
   "source": [
    "y_prob_triangulos = model.predict(triangleImages)\n",
    "y_prob_rectangulos = model.predict(rectangleImages)\n",
    "y_prob_pentagonos = model.predict(pentagonImages)\n",
    "y_prob_hexagonos = model.predict(hexagonImages)\n",
    "y_prob_circulos = model.predict(circleImages)"
   ]
  },
  {
   "cell_type": "code",
   "execution_count": 44,
   "id": "d14c84be",
   "metadata": {},
   "outputs": [],
   "source": [
    "clasificaciones_imagenes_triangulos = np.array([class_names[a.argmax()] for a in y_prob_triangulos])\n",
    "clasificaciones_imagenes_rectangulos = np.array([class_names[a.argmax()] for a in y_prob_rectangulos])\n",
    "clasificaciones_imagenes_pentagonos = np.array([class_names[a.argmax()] for a in y_prob_pentagonos])\n",
    "clasificaciones_imagenes_hexagonos = np.array([class_names[a.argmax()] for a in y_prob_hexagonos])\n",
    "clasificaciones_imagenes_circulos = np.array([class_names[a.argmax()] for a in y_prob_circulos])"
   ]
  },
  {
   "cell_type": "code",
   "execution_count": 45,
   "id": "9b2a3f1f",
   "metadata": {},
   "outputs": [
    {
     "name": "stdout",
     "output_type": "stream",
     "text": [
      "PRECISIÓN EN LA CLASIFICACIÓN DE TRIÁNGULOS:\n",
      "1.0\n"
     ]
    }
   ],
   "source": [
    "print(\"PRECISIÓN EN LA CLASIFICACIÓN DE TRIÁNGULOS:\")\n",
    "print((clasificaciones_imagenes_triangulos == \"triangulos\").sum()/100)"
   ]
  },
  {
   "cell_type": "code",
   "execution_count": 46,
   "id": "b982a799",
   "metadata": {},
   "outputs": [
    {
     "name": "stdout",
     "output_type": "stream",
     "text": [
      "PRECISIÓN EN LA CLASIFICACIÓN DE RECTÁNGULOS:\n",
      "1.0\n"
     ]
    }
   ],
   "source": [
    "print(\"PRECISIÓN EN LA CLASIFICACIÓN DE RECTÁNGULOS:\")\n",
    "print((clasificaciones_imagenes_rectangulos == \"rectangulos\").sum()/100)"
   ]
  },
  {
   "cell_type": "code",
   "execution_count": 47,
   "id": "d8445490",
   "metadata": {},
   "outputs": [
    {
     "name": "stdout",
     "output_type": "stream",
     "text": [
      "PRECISIÓN EN LA CLASIFICACIÓN DE PENTÁGONOS:\n",
      "1.0\n"
     ]
    }
   ],
   "source": [
    "print(\"PRECISIÓN EN LA CLASIFICACIÓN DE PENTÁGONOS:\")\n",
    "print((clasificaciones_imagenes_pentagonos == \"pentagonos\").sum()/100)"
   ]
  },
  {
   "cell_type": "code",
   "execution_count": 48,
   "id": "f20772be",
   "metadata": {},
   "outputs": [
    {
     "name": "stdout",
     "output_type": "stream",
     "text": [
      "PRECISIÓN EN LA CLASIFICACIÓN DE HEXÁGONOS:\n",
      "0.99\n"
     ]
    }
   ],
   "source": [
    "print(\"PRECISIÓN EN LA CLASIFICACIÓN DE HEXÁGONOS:\")\n",
    "print((clasificaciones_imagenes_hexagonos == \"hexagonos\").sum()/100)"
   ]
  },
  {
   "cell_type": "code",
   "execution_count": 49,
   "id": "430fd2c8",
   "metadata": {},
   "outputs": [
    {
     "name": "stdout",
     "output_type": "stream",
     "text": [
      "PRECISIÓN EN LA CLASIFICACIÓN DE CÍRCULOS:\n",
      "1.0\n"
     ]
    }
   ],
   "source": [
    "print(\"PRECISIÓN EN LA CLASIFICACIÓN DE CÍRCULOS:\")\n",
    "print((clasificaciones_imagenes_circulos == \"circulos\").sum()/100)"
   ]
  },
  {
   "cell_type": "markdown",
   "id": "572ee8d8",
   "metadata": {},
   "source": [
    "Escoge un optimizador y una funcion de perdida para el entrenamiento de tu modelo:\n",
    "\n"
   ]
  },
  {
   "cell_type": "code",
   "execution_count": null,
   "id": "bdaf1895",
   "metadata": {},
   "outputs": [],
   "source": []
  },
  {
   "cell_type": "markdown",
   "id": "bf24db84",
   "metadata": {},
   "source": [
    "Escoge metricas para medir la perdida y exactitud del modelo. Estas metricas acumulan los valores cada epoch y despues imprimen el resultado total.\n",
    "\n"
   ]
  },
  {
   "cell_type": "code",
   "execution_count": null,
   "id": "e2cf0ef7",
   "metadata": {},
   "outputs": [],
   "source": []
  },
  {
   "cell_type": "markdown",
   "id": "f5eaa6c5",
   "metadata": {},
   "source": [
    "Utiliza tf.GradientTape para entrenar el modelo.\n",
    "\n",
    "\n"
   ]
  },
  {
   "cell_type": "code",
   "execution_count": null,
   "id": "cd002db4",
   "metadata": {},
   "outputs": [],
   "source": []
  },
  {
   "cell_type": "markdown",
   "id": "ec9fc6f0",
   "metadata": {},
   "source": [
    "Prueba el modelo:\n",
    "\n"
   ]
  },
  {
   "cell_type": "code",
   "execution_count": null,
   "id": "39ffde7d",
   "metadata": {},
   "outputs": [],
   "source": []
  },
  {
   "cell_type": "code",
   "execution_count": null,
   "id": "a383d428",
   "metadata": {},
   "outputs": [],
   "source": []
  },
  {
   "cell_type": "code",
   "execution_count": null,
   "id": "0d097737",
   "metadata": {},
   "outputs": [],
   "source": []
  },
  {
   "cell_type": "code",
   "execution_count": null,
   "id": "618a6233",
   "metadata": {},
   "outputs": [],
   "source": []
  },
  {
   "cell_type": "code",
   "execution_count": null,
   "id": "1eb53fdd",
   "metadata": {},
   "outputs": [],
   "source": []
  },
  {
   "cell_type": "code",
   "execution_count": null,
   "id": "8fe1bb15",
   "metadata": {},
   "outputs": [],
   "source": []
  }
 ],
 "metadata": {
  "kernelspec": {
   "display_name": "Python 3 (ipykernel)",
   "language": "python",
   "name": "python3"
  },
  "language_info": {
   "codemirror_mode": {
    "name": "ipython",
    "version": 3
   },
   "file_extension": ".py",
   "mimetype": "text/x-python",
   "name": "python",
   "nbconvert_exporter": "python",
   "pygments_lexer": "ipython3",
   "version": "3.9.15"
  }
 },
 "nbformat": 4,
 "nbformat_minor": 5
}
