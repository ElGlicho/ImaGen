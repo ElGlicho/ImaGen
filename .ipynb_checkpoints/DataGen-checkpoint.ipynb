{
 "cells": [
  {
   "cell_type": "code",
   "execution_count": 16,
   "id": "10603a8d",
   "metadata": {},
   "outputs": [],
   "source": [
    "from PIL import Image, ImageDraw\n",
    "import random"
   ]
  },
  {
   "cell_type": "code",
   "execution_count": 17,
   "id": "92b02a6a",
   "metadata": {
    "scrolled": true
   },
   "outputs": [
    {
     "data": {
      "text/plain": [
       "'\\nCLASES:\\nTriangulo\\nRectangulo\\nPentagono (regular)\\nHexágono (regular)\\nCirculo\\n'"
      ]
     },
     "execution_count": 17,
     "metadata": {},
     "output_type": "execute_result"
    }
   ],
   "source": [
    "'''\n",
    "CLASES:\n",
    "Triangulo\n",
    "Rectangulo\n",
    "Pentagono (regular)\n",
    "Hexágono (regular)\n",
    "Circulo\n",
    "'''"
   ]
  },
  {
   "cell_type": "code",
   "execution_count": 18,
   "id": "1952ad57",
   "metadata": {},
   "outputs": [],
   "source": [
    "#GENERAL\n",
    "imageSize = (64, 64)\n",
    "n_triangulos = 100\n",
    "n_rectangulos = 100\n",
    "n_pentagonos = 100\n",
    "n_hexagonos = 100\n",
    "n_circulos = 100\n",
    "\n",
    "\n",
    "#RECTANGULOS\n",
    "\n",
    "minOriginR = 0\n",
    "maxOriginR = 44\n",
    "minHeightWidthR = 6\n",
    "maxHeightWidthR = 20\n",
    "\n",
    "\n",
    "#RESTOPOLIGONOS\n",
    "minOriginP = 13\n",
    "maxOriginP = 51\n",
    "minRadio = 13\n",
    "maxRadio = 19\n",
    "minRotation = 0\n",
    "maxRotation = 360"
   ]
  },
  {
   "cell_type": "code",
   "execution_count": 39,
   "id": "5a5424c6",
   "metadata": {},
   "outputs": [],
   "source": [
    "acum = 0"
   ]
  },
  {
   "cell_type": "code",
   "execution_count": 40,
   "id": "781d7143",
   "metadata": {},
   "outputs": [],
   "source": [
    "def generaTriangulos():\n",
    "    for i in range(acum, acum+n_triangulos):\n",
    "        x = random.randrange(minOriginP, maxOriginP)\n",
    "        y = random.randrange(minOriginP, maxOriginP)\n",
    "        radius = random.randrange(minRadio, maxRadio)\n",
    "        rotate = random.randrange(minRotation, maxRotation)\n",
    "        image = Image.new('RGB', imageSize, 'white')  # could also open an existing image here to draw shapes over it\n",
    "        draw = ImageDraw.Draw(image)\n",
    "        draw.regular_polygon((x, y, radius), 3, rotation=rotate, fill='black', outline='black')  # can vary this bit to draw different shapes in different positions\n",
    "        image.save('./Dataset/'+str(i)+'.png')"
   ]
  },
  {
   "cell_type": "code",
   "execution_count": 41,
   "id": "b45e9408",
   "metadata": {},
   "outputs": [],
   "source": [
    "acum += n_triangulos"
   ]
  },
  {
   "cell_type": "code",
   "execution_count": 42,
   "id": "9a2a0ee9",
   "metadata": {},
   "outputs": [],
   "source": [
    "def generaRectangulos():\n",
    "    for i in range(acum, acum+n_rectangulos):\n",
    "        x = random.randrange(minOriginR, maxOriginR)\n",
    "        y = random.randrange(minOriginR, maxOriginR)\n",
    "        u = x + random.randrange(minHeightWidthR, maxHeightWidthR)\n",
    "        v = y + random.randrange(minHeightWidthR, maxHeightWidthR)\n",
    "        image = Image.new('RGB', imageSize, 'white')  # could also open an existing image here to draw shapes over it\n",
    "        draw = ImageDraw.Draw(image)\n",
    "        draw.rectangle((x,y,u,v), fill='black', outline='black')  # can vary this bit to draw different shapes in different positions\n",
    "        image.save('./Dataset/'+str(i)+'.png')"
   ]
  },
  {
   "cell_type": "code",
   "execution_count": 43,
   "id": "e8c97d1f",
   "metadata": {},
   "outputs": [],
   "source": [
    "acum += n_rectangulos"
   ]
  },
  {
   "cell_type": "code",
   "execution_count": 44,
   "id": "73c2610a",
   "metadata": {},
   "outputs": [],
   "source": [
    "def generaPentagonos():\n",
    "    for i in range(acum, acum+n_pentagonos):\n",
    "        x = random.randrange(minOriginP, maxOriginP)\n",
    "        y = random.randrange(minOriginP, maxOriginP)\n",
    "        radius = random.randrange(minRadio, maxRadio)\n",
    "        rotate = random.randrange(minRotation, maxRotation)\n",
    "        image = Image.new('RGB', imageSize, 'white')  # could also open an existing image here to draw shapes over it\n",
    "        draw = ImageDraw.Draw(image)\n",
    "        draw.regular_polygon((x, y, radius), 5, rotation=rotate, fill='black', outline='black')  # can vary this bit to draw different shapes in different positions\n",
    "        image.save('./Dataset/'+str(i)+'.png')\n"
   ]
  },
  {
   "cell_type": "code",
   "execution_count": 45,
   "id": "ad6275cd",
   "metadata": {},
   "outputs": [],
   "source": [
    "acum += n_pentagonos"
   ]
  },
  {
   "cell_type": "code",
   "execution_count": 46,
   "id": "87e456e2",
   "metadata": {},
   "outputs": [],
   "source": [
    "def generaHexagonos():\n",
    "    for i in range(acum, acum+n_hexagonos):\n",
    "        x = random.randrange(minOriginP, maxOriginP)\n",
    "        y = random.randrange(minOriginP, maxOriginP)\n",
    "        radius = random.randrange(minRadio, maxRadio)\n",
    "        rotate = random.randrange(minRotation, maxRotation)\n",
    "        image = Image.new('RGB', imageSize, 'white')  # could also open an existing image here to draw shapes over it\n",
    "        draw = ImageDraw.Draw(image)\n",
    "        draw.regular_polygon((x, y, radius), 6, rotation=rotate, fill='black', outline='black')  # can vary this bit to draw different shapes in different positions\n",
    "        image.save('./Dataset/'+str(i)+'.png')\n"
   ]
  },
  {
   "cell_type": "code",
   "execution_count": 47,
   "id": "4de97916",
   "metadata": {},
   "outputs": [],
   "source": [
    "acum += n_hexagonos"
   ]
  },
  {
   "cell_type": "code",
   "execution_count": 50,
   "id": "21c75945",
   "metadata": {},
   "outputs": [],
   "source": [
    "def generaCirculos():\n",
    "    for i in range(acum, acum+n_circulos):\n",
    "        x = random.randrange(minOriginP, maxOriginP)\n",
    "        y = random.randrange(minOriginP, maxOriginP)\n",
    "        u = x + random.randrange(minHeightWidthR, maxHeightWidthR)\n",
    "        v = y + random.randrange(minHeightWidthR, maxHeightWidthR)\n",
    "        image = Image.new('RGB', imageSize, 'white')  # could also open an existing image here to draw shapes over it\n",
    "        draw = ImageDraw.Draw(image)\n",
    "        draw.ellipse((x, y, u,v), fill='black', outline='black')  # can vary this bit to draw different shapes in different positions\n",
    "        image.save('./Dataset/'+str(i)+'.png')"
   ]
  },
  {
   "cell_type": "code",
   "execution_count": 56,
   "id": "f3187ee3",
   "metadata": {},
   "outputs": [
    {
     "name": "stdout",
     "output_type": "stream",
     "text": [
      "500\n"
     ]
    }
   ],
   "source": [
    "acum = 0\n",
    "generaTriangulos()\n",
    "acum += n_triangulos\n",
    "generaRectangulos()\n",
    "acum += n_rectangulos\n",
    "generaPentagonos()\n",
    "acum += n_pentagonos\n",
    "generaHexagonos()\n",
    "acum += n_hexagonos\n",
    "generaCirculos()\n",
    "acum += n_circulos\n",
    "print(acum)\n",
    "    \n",
    "    "
   ]
  },
  {
   "cell_type": "code",
   "execution_count": 55,
   "id": "83441ec2",
   "metadata": {},
   "outputs": [
    {
     "name": "stdout",
     "output_type": "stream",
     "text": [
      "500\n"
     ]
    }
   ],
   "source": [
    "generaImagenes()"
   ]
  }
 ],
 "metadata": {
  "kernelspec": {
   "display_name": "Python 3 (ipykernel)",
   "language": "python",
   "name": "python3"
  },
  "language_info": {
   "codemirror_mode": {
    "name": "ipython",
    "version": 3
   },
   "file_extension": ".py",
   "mimetype": "text/x-python",
   "name": "python",
   "nbconvert_exporter": "python",
   "pygments_lexer": "ipython3",
   "version": "3.10.6"
  }
 },
 "nbformat": 4,
 "nbformat_minor": 5
}
